{
 "cells": [
  {
   "cell_type": "code",
   "execution_count": null,
   "metadata": {},
   "outputs": [],
   "source": [
    "# 00_pygame\n",
    "# 01_cave\n",
    "# 02_minesweeper\n",
    "# 03_saturn_voyager\n",
    "# 04_snake\n",
    "# 05_block_break\n",
    "# 06_asteroid\n",
    "# 07_missile_command\n",
    "# 08_shooting\n",
    "# 09_Tetris"
   ]
  },
  {
   "cell_type": "code",
   "execution_count": null,
   "metadata": {},
   "outputs": [],
   "source": [
    "import sys\n",
    "from math import sin, cos, radians\n",
    "import pygame\n",
    "from pygame.locals import QUIT\n",
    "\n",
    "pygame.init()\n",
    "SURFACE = pygame.display.set_mode((400,300))\n",
    "FPSCLOCK = pygame.time.Clock()\n",
    "\n",
    "def main():\n",
    "    # main routine\n",
    "    \n",
    "    while True:\n",
    "        for event in pygame.event.get():\n",
    "            if event.type == QUIT:\n",
    "                pygame.quit()\n",
    "                sys.exit()\n",
    "            \n",
    "        SURFACE.fill((0,0,0))\n",
    "        \n",
    "        pointlist0 = []\n",
    "        pointlist1 = []\n",
    "        \n",
    "        for theta in range(0, 720, 144):\n",
    "            rad = radians(theta)\n",
    "            pointlist0.append((cos(rad)*100 + 100, sin(rad)*100 + 150))\n",
    "            pointlist0.append((cos(rad)*100 + 300, sin(rad)*100 + 150))\n",
    "            \n",
    "        pygame.draw.lines(SURFACE)"
   ]
  }
 ],
 "metadata": {
  "kernelspec": {
   "display_name": "Python 3",
   "language": "python",
   "name": "python3"
  },
  "language_info": {
   "name": "python",
   "version": "3.9.13"
  }
 },
 "nbformat": 4,
 "nbformat_minor": 2
}
