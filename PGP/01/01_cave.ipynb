{
 "cells": [
  {
   "cell_type": "code",
   "execution_count": 7,
   "metadata": {},
   "outputs": [
    {
     "ename": "SystemExit",
     "evalue": "",
     "output_type": "error",
     "traceback": [
      "An exception has occurred, use %tb to see the full traceback.\n",
      "\u001b[1;31mSystemExit\u001b[0m\n"
     ]
    },
    {
     "name": "stderr",
     "output_type": "stream",
     "text": [
      "C:\\Users\\GJ\\AppData\\Roaming\\Python\\Python39\\site-packages\\IPython\\core\\interactiveshell.py:3558: UserWarning: To exit: use 'exit', 'quit', or Ctrl-D.\n",
      "  warn(\"To exit: use 'exit', 'quit', or Ctrl-D.\", stacklevel=1)\n"
     ]
    }
   ],
   "source": [
    "import sys\n",
    "from random import randint\n",
    "import pygame\n",
    "from pygame.locals import QUIT, Rect, KEYDOWN, K_SPACE, MOUSEBUTTONDOWN, MOUSEBUTTONUP\n",
    "\n",
    "pygame.init()\n",
    "pygame.key.set_repeat(5,5)\n",
    "\n",
    "SURFACE = pygame.display.set_mode((800,600))\n",
    "FPSCLOCK = pygame.time.Clock()\n",
    "\n",
    "def main():\n",
    "    # Main Routine\n",
    "    walls = 80\n",
    "    ship_y = 250\n",
    "    velocity = 0\n",
    "    score = 0\n",
    "    slope = randint(1,6)\n",
    "    sysfont = pygame.font.SysFont(None, 36)\n",
    "    \n",
    "    holes = []\n",
    "    for xpos in range(walls):\n",
    "        holes.append(Rect(xpos * 10, 100, 10, 400))\n",
    "\n",
    "    mousedown = False\n",
    "    game_over = True\n",
    "\n",
    "    while True:\n",
    "        \n",
    "        is_space_down = False\n",
    "        \n",
    "        for event in pygame.event.get():\n",
    "            if event.type == QUIT:\n",
    "                pygame.quit()\n",
    "                sys.exit()\n",
    "            elif event.type == KEYDOWN:\n",
    "                if event.type == K_SPACE:\n",
    "                    is_space_down = True\n",
    "            elif event.type == MOUSEBUTTONDOWN:\n",
    "                mousedown = True\n",
    "                if game_over == True:\n",
    "                    score = 0\n",
    "                    ship_y = 250\n",
    "                    game_over = False\n",
    "                    \n",
    "            elif event.type == MOUSEBUTTONUP:\n",
    "                mousedown = False\n",
    "            \n",
    "        if mousedown == True:\n",
    "            is_space_down = True\n",
    "        \n",
    "        # 내 캐릭터를 이동\n",
    "        if not game_over:\n",
    "            score += 10\n",
    "            velocity += -3 if is_space_down else 3\n",
    "            ship_y += velocity\n",
    "            \n",
    "            # 동굴 스크롤\n",
    "            edge = holes[-1].copy()\n",
    "            \n",
    "            test = edge.move(0,slope)\n",
    "            if test.top <= 0 or test.bottom >= 600:\n",
    "                slope = randint(1,6) * (-1 if slope > 0 else 1)\n",
    "                edge.inflate_ip(0, -20)\n",
    "            edge.move_ip(10,slope)\n",
    "            \n",
    "            holes.append(edge)\n",
    "            del holes[0]\n",
    "            holes = [x.move(-10, 0) for x in holes]\n",
    "\n",
    "            # 충돌\n",
    "            if holes[0].top > ship_y or holes[0].bottom < ship_y + 80:\n",
    "                game_over = True\n",
    "        \n",
    "        SURFACE.fill((0,255,0))\n",
    "        for hole in holes:\n",
    "            pygame.draw.rect(SURFACE, (0,0,0), hole)\n",
    "        \n",
    "        pygame.draw.rect(SURFACE, (255,0,0), (0,ship_y,80,80))\n",
    "        score_image = sysfont.render('score is {}'.format(score), True, (0,0,255))\n",
    "        \n",
    "        SURFACE.blit(score_image, (600,20))\n",
    "        \n",
    "        if game_over:\n",
    "            pygame.draw.circle(SURFACE, (0,255,0), (40, ship_y + 40), 10)\n",
    "        \n",
    "        pygame.display.update()\n",
    "        FPSCLOCK.tick(15)\n",
    "        \n",
    "if __name__ == '__main__':\n",
    "    main()\n",
    "                \n",
    "            \n"
   ]
  },
  {
   "cell_type": "code",
   "execution_count": 5,
   "metadata": {},
   "outputs": [
    {
     "data": {
      "text/plain": [
       "503"
      ]
     },
     "execution_count": 5,
     "metadata": {},
     "output_type": "execute_result"
    }
   ],
   "source": [
    "Rect.bottom\n",
    "\n",
    "walls = 80\n",
    "slope = randint(1,6)\n",
    "\n",
    "holes = []\n",
    "for xpos in range(walls):\n",
    "    holes.append(Rect(xpos * 10, 100, 10, 400))\n",
    "\n",
    "\n",
    "edge = holes[-1].copy()\n",
    "            \n",
    "test = edge.move(0,slope)\n",
    "\n",
    "test.bottom"
   ]
  },
  {
   "cell_type": "code",
   "execution_count": null,
   "metadata": {},
   "outputs": [],
   "source": []
  }
 ],
 "metadata": {
  "kernelspec": {
   "display_name": "base",
   "language": "python",
   "name": "python3"
  },
  "language_info": {
   "codemirror_mode": {
    "name": "ipython",
    "version": 3
   },
   "file_extension": ".py",
   "mimetype": "text/x-python",
   "name": "python",
   "nbconvert_exporter": "python",
   "pygments_lexer": "ipython3",
   "version": "3.9.13"
  }
 },
 "nbformat": 4,
 "nbformat_minor": 2
}
